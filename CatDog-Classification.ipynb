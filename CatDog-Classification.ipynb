{
  "cells": [
    {
      "cell_type": "markdown",
      "metadata": {
        "id": "view-in-github",
        "colab_type": "text"
      },
      "source": [
        "<a href=\"https://colab.research.google.com/github/qxygxt/CatDog-Classification/blob/main/CatDog-Classification.ipynb\" target=\"_parent\"><img src=\"https://colab.research.google.com/assets/colab-badge.svg\" alt=\"Open In Colab\"/></a>"
      ]
    },
    {
      "cell_type": "code",
      "execution_count": null,
      "metadata": {
        "id": "ZZJDmMHUAXFZ"
      },
      "outputs": [],
      "source": [
        "# Import necessary packages\n",
        "import os\n",
        "import glob\n",
        "import torch as t\n",
        "import torch.nn as nn\n",
        "from torch.utils import data\n",
        "import torch.optim as optim\n",
        "from PIL import Image\n",
        "import numpy as np\n",
        "import pandas as pd\n",
        "import matplotlib.pyplot as plt\n",
        "import zipfile\n",
        "from torch.utils.data import Dataset,DataLoader\n",
        "from torchvision import utils,datasets\n",
        "from torchvision import transforms as transforms\n",
        "# This is for the progress bar.\n",
        "from tqdm.auto import tqdm"
      ]
    },
    {
      "cell_type": "code",
      "execution_count": null,
      "metadata": {
        "id": "pyYL3fEyRjaP"
      },
      "outputs": [],
      "source": [
        "# Hyperparameters\n",
        "lr = 0.001 \n",
        "batch_size = 32\n",
        "epochs = 20 "
      ]
    },
    {
      "cell_type": "code",
      "execution_count": null,
      "metadata": {
        "colab": {
          "base_uri": "https://localhost:8080/"
        },
        "id": "-VSuLUKDTTyc",
        "outputId": "f36c6c3a-00a6-454f-8aea-0b83c7a23aca"
      },
      "outputs": [
        {
          "output_type": "stream",
          "name": "stdout",
          "text": [
            "Mounted at /content/drive\n"
          ]
        }
      ],
      "source": [
        "# mount with google drive\n",
        "# zip files of testing set and training set have already been uploaded\n",
        "from google.colab import drive\n",
        "drive.mount('/content/drive')"
      ]
    },
    {
      "cell_type": "code",
      "execution_count": null,
      "metadata": {
        "id": "4cdgfBbUmXHa"
      },
      "outputs": [],
      "source": [
        "# unzip training set\n",
        "!unzip '/content/drive/MyDrive/20220710-CatDog/train.zip' -d '/content/drive/MyDrive/20220710-CatDog'\n"
      ]
    },
    {
      "cell_type": "code",
      "execution_count": null,
      "metadata": {
        "id": "Aq6u6yoye7Ch"
      },
      "outputs": [],
      "source": [
        "# unzip testing set\n",
        "!unzip '/content/drive/MyDrive/20220710-CatDog/test.zip' -d '/content/drive/MyDrive/20220710-CatDog'"
      ]
    },
    {
      "cell_type": "code",
      "execution_count": null,
      "metadata": {
        "colab": {
          "base_uri": "https://localhost:8080/"
        },
        "id": "04KuXbwhm8Ao",
        "outputId": "e4c0b293-d51c-4ead-c68d-fc9e24ed7ca1"
      },
      "outputs": [
        {
          "output_type": "execute_result",
          "data": {
            "text/plain": [
              "['test.zip', 'train.zip', 'train', 'test']"
            ]
          },
          "metadata": {},
          "execution_count": 7
        }
      ],
      "source": [
        "os.listdir('/content/drive/MyDrive/20220710-CatDog')"
      ]
    },
    {
      "cell_type": "code",
      "execution_count": null,
      "metadata": {
        "colab": {
          "base_uri": "https://localhost:8080/"
        },
        "id": "74Q-3up3o2df",
        "outputId": "1900f951-2cd4-42c0-a8f7-864c6a7fd4d7"
      },
      "outputs": [
        {
          "output_type": "stream",
          "name": "stdout",
          "text": [
            "12500\n",
            "12500\n"
          ]
        }
      ],
      "source": [
        "train_list_init = glob.glob(os.path.join('/content/drive/MyDrive/20220710-CatDog/train','*.jpg'))\n",
        "test_list_init = glob.glob(os.path.join('/content//drive/MyDrive/20220710-CatDog/test', '*.jpg'))\n",
        "print(len(train_list_init))\n",
        "print(len(test_list_init))"
      ]
    },
    {
      "cell_type": "code",
      "execution_count": null,
      "metadata": {
        "colab": {
          "base_uri": "https://localhost:8080/"
        },
        "id": "maGVesvXo2Uz",
        "outputId": "d1b5d9ba-613f-42e7-dd9d-84804afd2c75"
      },
      "outputs": [
        {
          "output_type": "stream",
          "name": "stdout",
          "text": [
            "10000\n",
            "2500\n",
            "12500\n"
          ]
        }
      ],
      "source": [
        "# split training set, ratio 1：4\n",
        "from sklearn.model_selection import train_test_split\n",
        "train_list, val_list = train_test_split(train_list_init, test_size=0.2)\n",
        "test_list = test_list_init\n",
        "print(len(train_list))\n",
        "print(len(val_list))\n",
        "print(len(test_list))"
      ]
    },
    {
      "cell_type": "code",
      "execution_count": null,
      "metadata": {
        "id": "ijD150iTrrIl"
      },
      "outputs": [],
      "source": [
        "# Data Augumentation\n",
        "\n",
        "# for training set\n",
        "train_transforms =  transforms.Compose([\n",
        "        transforms.Resize((224, 224)),\n",
        "        transforms.RandomResizedCrop(224),\n",
        "        transforms.RandomHorizontalFlip(),\n",
        "        transforms.ToTensor(),\n",
        "    ])\n",
        "\n",
        "\n",
        "# for validation and testing set \n",
        "# Resize the PIL image and transform it into Tensor.\n",
        "val_transforms = transforms.Compose([\n",
        "        transforms.Resize((224, 224)),\n",
        "        transforms.ToTensor(),\n",
        "    ])\n",
        "\n",
        "\n",
        "test_transforms = transforms.Compose([   \n",
        "    transforms.Resize((224, 224)),\n",
        "    transforms.ToTensor()\n",
        "    ])"
      ]
    },
    {
      "cell_type": "code",
      "execution_count": null,
      "metadata": {
        "id": "W1uNQas_vbC1"
      },
      "outputs": [],
      "source": [
        "class dataset(t.utils.data.Dataset):\n",
        "    def __init__(self,file_list,transform=None):\n",
        "        self.file_list = file_list\n",
        "        self.transform = transform\n",
        "               \n",
        "    #dataset length\n",
        "    def __len__(self):\n",
        "        self.filelength = len(self.file_list)\n",
        "        return self.filelength\n",
        "    \n",
        "    #load an one of images\n",
        "    def __getitem__(self,idx):\n",
        "        img_path = self.file_list[idx]\n",
        "        img = Image.open(img_path)\n",
        "        img_transformed = self.transform(img)\n",
        "        \n",
        "        #extract label\n",
        "        label = img_path.split('/')[-1].split('.')[0]\n",
        "        if label == 'dog':\n",
        "            label=0\n",
        "        elif label == 'cat':\n",
        "            label=1\n",
        "            \n",
        "        return img_transformed,label"
      ]
    },
    {
      "cell_type": "code",
      "execution_count": null,
      "metadata": {
        "id": "jDuY1n9bvyJV"
      },
      "outputs": [],
      "source": [
        "train_data = dataset(train_list, transform=train_transforms)\n",
        "val_data = dataset(val_list, transform=val_transforms)\n",
        "test_data = dataset(test_list, transform=test_transforms)\n",
        "\n",
        "#define dataloader\n",
        "train_loader = t.utils.data.DataLoader(dataset = train_data, batch_size=batch_size, shuffle=True )\n",
        "val_loader = t.utils.data.DataLoader(dataset = val_data, batch_size=batch_size, shuffle=True)\n",
        "test_loader = t.utils.data.DataLoader(dataset = test_data, batch_size=batch_size, shuffle=True)"
      ]
    },
    {
      "cell_type": "code",
      "execution_count": null,
      "metadata": {
        "colab": {
          "base_uri": "https://localhost:8080/"
        },
        "id": "oz985TZiwdU4",
        "outputId": "955c9966-027c-4d03-f88e-eea973cb489e"
      },
      "outputs": [
        {
          "output_type": "stream",
          "name": "stdout",
          "text": [
            "313\n",
            "79\n",
            "391\n"
          ]
        }
      ],
      "source": [
        "print(len(train_loader))\n",
        "print(len(val_loader))\n",
        "print(len(test_loader))"
      ]
    },
    {
      "cell_type": "code",
      "execution_count": null,
      "metadata": {
        "id": "0m4T004thj_g"
      },
      "outputs": [],
      "source": [
        "# 3 convolutional layer and 2 fully connected layer\n",
        "class Classifier(nn.Module):\n",
        "    def __init__(self):\n",
        "        super(Classifier, self).__init__()\n",
        "        # The arguments for commonly used modules:\n",
        "        # torch.nn.Conv2d(in_channels, out_channels, kernel_size, stride, padding)\n",
        "        # torch.nn.MaxPool2d(kernel_size, stride, padding)\n",
        "\n",
        "        # input image size: [3, 128, 128]\n",
        "        self.cnn_layers = nn.Sequential(\n",
        "            \n",
        "            nn.Conv2d(3,16,kernel_size=3, padding=0,stride=2),\n",
        "            nn.BatchNorm2d(16),\n",
        "            nn.ReLU(),\n",
        "            nn.MaxPool2d(2),\n",
        "\n",
        "            nn.Conv2d(16,32, kernel_size=3, padding=0, stride=2),\n",
        "            nn.BatchNorm2d(32),\n",
        "            nn.ReLU(),\n",
        "            nn.MaxPool2d(2),\n",
        "\n",
        "            nn.Conv2d(32,64, kernel_size=3, padding=0, stride=2),\n",
        "            nn.BatchNorm2d(64),\n",
        "            nn.ReLU(),\n",
        "            nn.MaxPool2d(2)\n",
        "        )\n",
        "        self.fc_layers = nn.Sequential(\n",
        "            nn.Linear(64 * 3 * 3, 32),\n",
        "            nn.ReLU(),\n",
        "            nn.Dropout(0.5),\n",
        "            nn.Linear(32, 2),\n",
        "        )\n",
        "\n",
        "    def forward(self, x):\n",
        "        # input (x): [batch_size, 3, 128, 128]\n",
        "        # output: [batch_size, 2]\n",
        "\n",
        "        # Extract features by convolutional layers.\n",
        "        x = self.cnn_layers(x)\n",
        "\n",
        "        # The extracted feature map must be flatten before going to fully-connected layers.\n",
        "        x = x.flatten(1)\n",
        "\n",
        "        # The features are transformed by fully-connected layers to obtain the final logits.\n",
        "        x = self.fc_layers(x)\n",
        "        return x"
      ]
    },
    {
      "cell_type": "code",
      "execution_count": null,
      "metadata": {
        "colab": {
          "base_uri": "https://localhost:8080/"
        },
        "id": "Phy1ISjeko-h",
        "outputId": "fde0d57b-c20c-457f-93a4-3c71bdf23c5a"
      },
      "outputs": [
        {
          "output_type": "stream",
          "name": "stdout",
          "text": [
            "cuda\n"
          ]
        }
      ],
      "source": [
        "device = 'cuda' if t.cuda.is_available() else 'cpu'\n",
        "\n",
        "t.manual_seed(1234)\n",
        "if device =='cuda':\n",
        "    t.cuda.manual_seed_all(1234)\n",
        "print(device)"
      ]
    },
    {
      "cell_type": "code",
      "execution_count": null,
      "metadata": {
        "colab": {
          "base_uri": "https://localhost:8080/"
        },
        "id": "QhtzzBtjj3_N",
        "outputId": "aaae0f6d-dee4-47db-d36a-b07192fe03df"
      },
      "outputs": [
        {
          "output_type": "execute_result",
          "data": {
            "text/plain": [
              "Classifier(\n",
              "  (cnn_layers): Sequential(\n",
              "    (0): Conv2d(3, 16, kernel_size=(3, 3), stride=(2, 2))\n",
              "    (1): BatchNorm2d(16, eps=1e-05, momentum=0.1, affine=True, track_running_stats=True)\n",
              "    (2): ReLU()\n",
              "    (3): MaxPool2d(kernel_size=2, stride=2, padding=0, dilation=1, ceil_mode=False)\n",
              "    (4): Conv2d(16, 32, kernel_size=(3, 3), stride=(2, 2))\n",
              "    (5): BatchNorm2d(32, eps=1e-05, momentum=0.1, affine=True, track_running_stats=True)\n",
              "    (6): ReLU()\n",
              "    (7): MaxPool2d(kernel_size=2, stride=2, padding=0, dilation=1, ceil_mode=False)\n",
              "    (8): Conv2d(32, 64, kernel_size=(3, 3), stride=(2, 2))\n",
              "    (9): BatchNorm2d(64, eps=1e-05, momentum=0.1, affine=True, track_running_stats=True)\n",
              "    (10): ReLU()\n",
              "    (11): MaxPool2d(kernel_size=2, stride=2, padding=0, dilation=1, ceil_mode=False)\n",
              "  )\n",
              "  (fc_layers): Sequential(\n",
              "    (0): Linear(in_features=576, out_features=32, bias=True)\n",
              "    (1): ReLU()\n",
              "    (2): Dropout(p=0.5, inplace=False)\n",
              "    (3): Linear(in_features=32, out_features=2, bias=True)\n",
              "  )\n",
              ")"
            ]
          },
          "metadata": {},
          "execution_count": 58
        }
      ],
      "source": [
        "model = Classifier().to(device)\n",
        "# train mode\n",
        "model.train()"
      ]
    },
    {
      "cell_type": "code",
      "execution_count": null,
      "metadata": {
        "id": "8igwP8eFk7Hy"
      },
      "outputs": [],
      "source": [
        "optimizer = optim.Adam(params = model.parameters(),lr=lr)\n",
        "criterion = nn.CrossEntropyLoss()"
      ]
    },
    {
      "cell_type": "code",
      "execution_count": null,
      "metadata": {
        "id": "cAGdNXuWlVXq",
        "colab": {
          "base_uri": "https://localhost:8080/"
        },
        "outputId": "8fce5dc7-723f-4dcd-c910-1a35aecd575f"
      },
      "outputs": [
        {
          "output_type": "stream",
          "name": "stdout",
          "text": [
            "Epoch : 1, train accuracy : 0.5054903626441956, train loss : 0.7146917581558228\n",
            "Epoch : 1, val_accuracy : 0.4948576092720032, val_loss : 0.7177453637123108\n",
            "Epoch : 2, train accuracy : 0.5027947425842285, train loss : 0.7148112058639526\n",
            "Epoch : 2, val_accuracy : 0.5015823245048523, val_loss : 0.7124343514442444\n",
            "Epoch : 3, train accuracy : 0.4956062138080597, train loss : 0.7182703018188477\n",
            "Epoch : 3, val_accuracy : 0.5051422715187073, val_loss : 0.7198216915130615\n",
            "Epoch : 4, train accuracy : 0.5032941699028015, train loss : 0.7157497406005859\n",
            "Epoch : 4, val_accuracy : 0.5, val_loss : 0.7173449993133545\n",
            "Epoch : 5, train accuracy : 0.5058900117874146, train loss : 0.7136145234107971\n",
            "Epoch : 5, val_accuracy : 0.48813286423683167, val_loss : 0.7229259014129639\n",
            "Epoch : 6, train accuracy : 0.5028946399688721, train loss : 0.7139394283294678\n",
            "Epoch : 6, val_accuracy : 0.5051423907279968, val_loss : 0.7184526920318604\n",
            "Epoch : 7, train accuracy : 0.4992004334926605, train loss : 0.7152597904205322\n",
            "Epoch : 7, val_accuracy : 0.5122625827789307, val_loss : 0.7104584574699402\n",
            "Epoch : 8, train accuracy : 0.5047917366027832, train loss : 0.712365984916687\n",
            "Epoch : 8, val_accuracy : 0.4893195629119873, val_loss : 0.7202646732330322\n",
            "Epoch : 9, train accuracy : 0.5024951696395874, train loss : 0.7137770056724548\n",
            "Epoch : 9, val_accuracy : 0.513053834438324, val_loss : 0.7107406258583069\n",
            "Epoch : 10, train accuracy : 0.4974035620689392, train loss : 0.7160337567329407\n",
            "Epoch : 10, val_accuracy : 0.49287986755371094, val_loss : 0.721537172794342\n",
            "Epoch : 11, train accuracy : 0.5009975433349609, train loss : 0.7158626914024353\n",
            "Epoch : 11, val_accuracy : 0.49327531456947327, val_loss : 0.7241606116294861\n",
            "Epoch : 12, train accuracy : 0.4916127026081085, train loss : 0.7183738350868225\n",
            "Epoch : 12, val_accuracy : 0.5003955960273743, val_loss : 0.718382716178894\n",
            "Epoch : 13, train accuracy : 0.5078867077827454, train loss : 0.712304413318634\n",
            "Epoch : 13, val_accuracy : 0.49920889735221863, val_loss : 0.7157179117202759\n",
            "Epoch : 14, train accuracy : 0.5030941963195801, train loss : 0.7133477926254272\n",
            "Epoch : 14, val_accuracy : 0.4968354403972626, val_loss : 0.7181046009063721\n",
            "Epoch : 15, train accuracy : 0.5044922828674316, train loss : 0.709538459777832\n",
            "Epoch : 15, val_accuracy : 0.4996044337749481, val_loss : 0.7204809784889221\n",
            "Epoch : 16, train accuracy : 0.5011972784996033, train loss : 0.716204822063446\n",
            "Epoch : 16, val_accuracy : 0.4984177052974701, val_loss : 0.7148695588111877\n",
            "Epoch : 17, train accuracy : 0.5014967322349548, train loss : 0.7144860029220581\n",
            "Epoch : 17, val_accuracy : 0.5067246556282043, val_loss : 0.7176966667175293\n",
            "Epoch : 18, train accuracy : 0.4924113154411316, train loss : 0.719520628452301\n",
            "Epoch : 18, val_accuracy : 0.5102848410606384, val_loss : 0.7144265174865723\n",
            "Epoch : 19, train accuracy : 0.49221181869506836, train loss : 0.7151927351951599\n",
            "Epoch : 19, val_accuracy : 0.49683550000190735, val_loss : 0.724045991897583\n",
            "Epoch : 20, train accuracy : 0.5041924715042114, train loss : 0.7116908431053162\n",
            "Epoch : 20, val_accuracy : 0.5007911324501038, val_loss : 0.7195276618003845\n"
          ]
        }
      ],
      "source": [
        "# training process\n",
        "\n",
        "epochs = 20\n",
        "\n",
        "for epoch in range(epochs):\n",
        "    epoch_loss = 0\n",
        "    epoch_accuracy = 0\n",
        "    \n",
        "    for data, label in train_loader:\n",
        "        data = data.to(device)\n",
        "        label = label.to(device)\n",
        "        \n",
        "        output = model(data)\n",
        "        loss = criterion(output, label)\n",
        "        \n",
        "        optimizer.zero_grad()\n",
        "        loss.backward()\n",
        "        optimizer.step()\n",
        "        \n",
        "        acc = ((output.argmax(dim=1) == label).float().mean())\n",
        "        epoch_accuracy += acc/len(train_loader)\n",
        "        epoch_loss += loss/len(train_loader)\n",
        "        \n",
        "    print('Epoch : {}, train accuracy : {}, train loss : {}'.format(epoch+1, epoch_accuracy,epoch_loss))\n",
        "    \n",
        "    \n",
        "    with t.no_grad():\n",
        "        epoch_val_accuracy=0\n",
        "        epoch_val_loss =0\n",
        "        for data, label in val_loader:\n",
        "            data = data.to(device)\n",
        "            label = label.to(device)\n",
        "            \n",
        "            val_output = model(data)\n",
        "            val_loss = criterion(val_output,label)\n",
        "            \n",
        "            \n",
        "            acc = ((val_output.argmax(dim=1) == label).float().mean())\n",
        "            epoch_val_accuracy += acc/ len(val_loader)\n",
        "            epoch_val_loss += val_loss/ len(val_loader)\n",
        "            \n",
        "        print('Epoch : {}, val_accuracy : {}, val_loss : {}'.format(epoch+1, epoch_val_accuracy,epoch_val_loss))"
      ]
    },
    {
      "cell_type": "code",
      "execution_count": null,
      "metadata": {
        "colab": {
          "base_uri": "https://localhost:8080/",
          "height": 49,
          "referenced_widgets": [
            "9f0ab74863704bc8bb3161595c36f427",
            "36a5fd1f21cf4987b63758891cacf75f",
            "261256ca98b040e7af93b90f326d95e8",
            "81d4db902ecf41e0b1c27907546ab80b",
            "315fcdf070c248d1ad3b72bc4fb29248",
            "dae8dbbe624847e7b9e10a5353fee68b",
            "c91d966d7a1240188e405ae92139a30e",
            "3754f585689e4517928f481f94331b13",
            "cf87f9bf505c4ccf896ae54e8f51fb5e",
            "f89956c496664dcb88e87ad9c1e7938f",
            "06c6959d77d043429610d4c9c992ae2b"
          ]
        },
        "id": "xOXGRtDQX3PQ",
        "outputId": "66c335a0-a800-4d91-ca5c-2f4e91336b74"
      },
      "outputs": [
        {
          "output_type": "display_data",
          "data": {
            "text/plain": [
              "  0%|          | 0/391 [00:00<?, ?it/s]"
            ],
            "application/vnd.jupyter.widget-view+json": {
              "version_major": 2,
              "version_minor": 0,
              "model_id": "9f0ab74863704bc8bb3161595c36f427"
            }
          },
          "metadata": {}
        }
      ],
      "source": [
        "# Make sure the model is in eval mode.\n",
        "# Some modules like Dropout or BatchNorm affect if the model is in training mode.\n",
        "model.eval()\n",
        "\n",
        "# Initialize a list to store the predictions.\n",
        "predictions = []\n",
        "\n",
        "# Iterate the testing set by batches.\n",
        "for batch in tqdm(test_loader):\n",
        "    # A batch consists of image data and corresponding labels.\n",
        "    # But here the variable \"labels\" is useless since we do not have the ground-truth.\n",
        "    # If printing out the labels, you will find that it is always 0.\n",
        "    # This is because the wrapper (DatasetFolder) returns images and labels for each batch,\n",
        "    # so we have to create fake labels to make it work normally.\n",
        "    imgs, labels = batch\n",
        "\n",
        "    # We don't need gradient in testing, and we don't even have labels to compute loss.\n",
        "    # Using torch.no_grad() accelerates the forward process.\n",
        "    with t.no_grad():\n",
        "        logits = model(imgs.to(device))\n",
        "\n",
        "    # Take the class with greatest logit as prediction and record it.\n",
        "    predictions.extend(logits.argmax(dim=1).cpu().numpy().tolist())"
      ]
    },
    {
      "cell_type": "code",
      "execution_count": null,
      "metadata": {
        "id": "AT_uooHXY9b-"
      },
      "outputs": [],
      "source": [
        "# Save predictions into the file.\n",
        "with open(\"submission.csv\", \"w\") as f:\n",
        "\n",
        "    # # The first row should be \"Id, Category\"\n",
        "    # f.write(\"Id,Category\\n\")\n",
        "\n",
        "    # For the rest of the rows, each image id corresponds to a predicted class.\n",
        "    for i, pred in  enumerate(predictions):\n",
        "         f.write(f\"{i},{pred}\\n\")"
      ]
    }
  ],
  "metadata": {
    "colab": {
      "name": "CatDog.ipynb",
      "provenance": [],
      "include_colab_link": true
    },
    "gpuClass": "standard",
    "kernelspec": {
      "display_name": "Python 3",
      "name": "python3"
    },
    "language_info": {
      "name": "python"
    },
    "widgets": {
      "application/vnd.jupyter.widget-state+json": {
        "9f0ab74863704bc8bb3161595c36f427": {
          "model_module": "@jupyter-widgets/controls",
          "model_name": "HBoxModel",
          "model_module_version": "1.5.0",
          "state": {
            "_dom_classes": [],
            "_model_module": "@jupyter-widgets/controls",
            "_model_module_version": "1.5.0",
            "_model_name": "HBoxModel",
            "_view_count": null,
            "_view_module": "@jupyter-widgets/controls",
            "_view_module_version": "1.5.0",
            "_view_name": "HBoxView",
            "box_style": "",
            "children": [
              "IPY_MODEL_36a5fd1f21cf4987b63758891cacf75f",
              "IPY_MODEL_261256ca98b040e7af93b90f326d95e8",
              "IPY_MODEL_81d4db902ecf41e0b1c27907546ab80b"
            ],
            "layout": "IPY_MODEL_315fcdf070c248d1ad3b72bc4fb29248"
          }
        },
        "36a5fd1f21cf4987b63758891cacf75f": {
          "model_module": "@jupyter-widgets/controls",
          "model_name": "HTMLModel",
          "model_module_version": "1.5.0",
          "state": {
            "_dom_classes": [],
            "_model_module": "@jupyter-widgets/controls",
            "_model_module_version": "1.5.0",
            "_model_name": "HTMLModel",
            "_view_count": null,
            "_view_module": "@jupyter-widgets/controls",
            "_view_module_version": "1.5.0",
            "_view_name": "HTMLView",
            "description": "",
            "description_tooltip": null,
            "layout": "IPY_MODEL_dae8dbbe624847e7b9e10a5353fee68b",
            "placeholder": "​",
            "style": "IPY_MODEL_c91d966d7a1240188e405ae92139a30e",
            "value": " 65%"
          }
        },
        "261256ca98b040e7af93b90f326d95e8": {
          "model_module": "@jupyter-widgets/controls",
          "model_name": "FloatProgressModel",
          "model_module_version": "1.5.0",
          "state": {
            "_dom_classes": [],
            "_model_module": "@jupyter-widgets/controls",
            "_model_module_version": "1.5.0",
            "_model_name": "FloatProgressModel",
            "_view_count": null,
            "_view_module": "@jupyter-widgets/controls",
            "_view_module_version": "1.5.0",
            "_view_name": "ProgressView",
            "bar_style": "",
            "description": "",
            "description_tooltip": null,
            "layout": "IPY_MODEL_3754f585689e4517928f481f94331b13",
            "max": 391,
            "min": 0,
            "orientation": "horizontal",
            "style": "IPY_MODEL_cf87f9bf505c4ccf896ae54e8f51fb5e",
            "value": 256
          }
        },
        "81d4db902ecf41e0b1c27907546ab80b": {
          "model_module": "@jupyter-widgets/controls",
          "model_name": "HTMLModel",
          "model_module_version": "1.5.0",
          "state": {
            "_dom_classes": [],
            "_model_module": "@jupyter-widgets/controls",
            "_model_module_version": "1.5.0",
            "_model_name": "HTMLModel",
            "_view_count": null,
            "_view_module": "@jupyter-widgets/controls",
            "_view_module_version": "1.5.0",
            "_view_name": "HTMLView",
            "description": "",
            "description_tooltip": null,
            "layout": "IPY_MODEL_f89956c496664dcb88e87ad9c1e7938f",
            "placeholder": "​",
            "style": "IPY_MODEL_06c6959d77d043429610d4c9c992ae2b",
            "value": " 256/391 [33:19&lt;16:40,  7.41s/it]"
          }
        },
        "315fcdf070c248d1ad3b72bc4fb29248": {
          "model_module": "@jupyter-widgets/base",
          "model_name": "LayoutModel",
          "model_module_version": "1.2.0",
          "state": {
            "_model_module": "@jupyter-widgets/base",
            "_model_module_version": "1.2.0",
            "_model_name": "LayoutModel",
            "_view_count": null,
            "_view_module": "@jupyter-widgets/base",
            "_view_module_version": "1.2.0",
            "_view_name": "LayoutView",
            "align_content": null,
            "align_items": null,
            "align_self": null,
            "border": null,
            "bottom": null,
            "display": null,
            "flex": null,
            "flex_flow": null,
            "grid_area": null,
            "grid_auto_columns": null,
            "grid_auto_flow": null,
            "grid_auto_rows": null,
            "grid_column": null,
            "grid_gap": null,
            "grid_row": null,
            "grid_template_areas": null,
            "grid_template_columns": null,
            "grid_template_rows": null,
            "height": null,
            "justify_content": null,
            "justify_items": null,
            "left": null,
            "margin": null,
            "max_height": null,
            "max_width": null,
            "min_height": null,
            "min_width": null,
            "object_fit": null,
            "object_position": null,
            "order": null,
            "overflow": null,
            "overflow_x": null,
            "overflow_y": null,
            "padding": null,
            "right": null,
            "top": null,
            "visibility": null,
            "width": null
          }
        },
        "dae8dbbe624847e7b9e10a5353fee68b": {
          "model_module": "@jupyter-widgets/base",
          "model_name": "LayoutModel",
          "model_module_version": "1.2.0",
          "state": {
            "_model_module": "@jupyter-widgets/base",
            "_model_module_version": "1.2.0",
            "_model_name": "LayoutModel",
            "_view_count": null,
            "_view_module": "@jupyter-widgets/base",
            "_view_module_version": "1.2.0",
            "_view_name": "LayoutView",
            "align_content": null,
            "align_items": null,
            "align_self": null,
            "border": null,
            "bottom": null,
            "display": null,
            "flex": null,
            "flex_flow": null,
            "grid_area": null,
            "grid_auto_columns": null,
            "grid_auto_flow": null,
            "grid_auto_rows": null,
            "grid_column": null,
            "grid_gap": null,
            "grid_row": null,
            "grid_template_areas": null,
            "grid_template_columns": null,
            "grid_template_rows": null,
            "height": null,
            "justify_content": null,
            "justify_items": null,
            "left": null,
            "margin": null,
            "max_height": null,
            "max_width": null,
            "min_height": null,
            "min_width": null,
            "object_fit": null,
            "object_position": null,
            "order": null,
            "overflow": null,
            "overflow_x": null,
            "overflow_y": null,
            "padding": null,
            "right": null,
            "top": null,
            "visibility": null,
            "width": null
          }
        },
        "c91d966d7a1240188e405ae92139a30e": {
          "model_module": "@jupyter-widgets/controls",
          "model_name": "DescriptionStyleModel",
          "model_module_version": "1.5.0",
          "state": {
            "_model_module": "@jupyter-widgets/controls",
            "_model_module_version": "1.5.0",
            "_model_name": "DescriptionStyleModel",
            "_view_count": null,
            "_view_module": "@jupyter-widgets/base",
            "_view_module_version": "1.2.0",
            "_view_name": "StyleView",
            "description_width": ""
          }
        },
        "3754f585689e4517928f481f94331b13": {
          "model_module": "@jupyter-widgets/base",
          "model_name": "LayoutModel",
          "model_module_version": "1.2.0",
          "state": {
            "_model_module": "@jupyter-widgets/base",
            "_model_module_version": "1.2.0",
            "_model_name": "LayoutModel",
            "_view_count": null,
            "_view_module": "@jupyter-widgets/base",
            "_view_module_version": "1.2.0",
            "_view_name": "LayoutView",
            "align_content": null,
            "align_items": null,
            "align_self": null,
            "border": null,
            "bottom": null,
            "display": null,
            "flex": null,
            "flex_flow": null,
            "grid_area": null,
            "grid_auto_columns": null,
            "grid_auto_flow": null,
            "grid_auto_rows": null,
            "grid_column": null,
            "grid_gap": null,
            "grid_row": null,
            "grid_template_areas": null,
            "grid_template_columns": null,
            "grid_template_rows": null,
            "height": null,
            "justify_content": null,
            "justify_items": null,
            "left": null,
            "margin": null,
            "max_height": null,
            "max_width": null,
            "min_height": null,
            "min_width": null,
            "object_fit": null,
            "object_position": null,
            "order": null,
            "overflow": null,
            "overflow_x": null,
            "overflow_y": null,
            "padding": null,
            "right": null,
            "top": null,
            "visibility": null,
            "width": null
          }
        },
        "cf87f9bf505c4ccf896ae54e8f51fb5e": {
          "model_module": "@jupyter-widgets/controls",
          "model_name": "ProgressStyleModel",
          "model_module_version": "1.5.0",
          "state": {
            "_model_module": "@jupyter-widgets/controls",
            "_model_module_version": "1.5.0",
            "_model_name": "ProgressStyleModel",
            "_view_count": null,
            "_view_module": "@jupyter-widgets/base",
            "_view_module_version": "1.2.0",
            "_view_name": "StyleView",
            "bar_color": null,
            "description_width": ""
          }
        },
        "f89956c496664dcb88e87ad9c1e7938f": {
          "model_module": "@jupyter-widgets/base",
          "model_name": "LayoutModel",
          "model_module_version": "1.2.0",
          "state": {
            "_model_module": "@jupyter-widgets/base",
            "_model_module_version": "1.2.0",
            "_model_name": "LayoutModel",
            "_view_count": null,
            "_view_module": "@jupyter-widgets/base",
            "_view_module_version": "1.2.0",
            "_view_name": "LayoutView",
            "align_content": null,
            "align_items": null,
            "align_self": null,
            "border": null,
            "bottom": null,
            "display": null,
            "flex": null,
            "flex_flow": null,
            "grid_area": null,
            "grid_auto_columns": null,
            "grid_auto_flow": null,
            "grid_auto_rows": null,
            "grid_column": null,
            "grid_gap": null,
            "grid_row": null,
            "grid_template_areas": null,
            "grid_template_columns": null,
            "grid_template_rows": null,
            "height": null,
            "justify_content": null,
            "justify_items": null,
            "left": null,
            "margin": null,
            "max_height": null,
            "max_width": null,
            "min_height": null,
            "min_width": null,
            "object_fit": null,
            "object_position": null,
            "order": null,
            "overflow": null,
            "overflow_x": null,
            "overflow_y": null,
            "padding": null,
            "right": null,
            "top": null,
            "visibility": null,
            "width": null
          }
        },
        "06c6959d77d043429610d4c9c992ae2b": {
          "model_module": "@jupyter-widgets/controls",
          "model_name": "DescriptionStyleModel",
          "model_module_version": "1.5.0",
          "state": {
            "_model_module": "@jupyter-widgets/controls",
            "_model_module_version": "1.5.0",
            "_model_name": "DescriptionStyleModel",
            "_view_count": null,
            "_view_module": "@jupyter-widgets/base",
            "_view_module_version": "1.2.0",
            "_view_name": "StyleView",
            "description_width": ""
          }
        }
      }
    },
    "accelerator": "GPU"
  },
  "nbformat": 4,
  "nbformat_minor": 0
}